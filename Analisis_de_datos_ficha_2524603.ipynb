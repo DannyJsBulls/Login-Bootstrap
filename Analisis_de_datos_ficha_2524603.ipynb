{
  "nbformat": 4,
  "nbformat_minor": 0,
  "metadata": {
    "colab": {
      "provenance": [],
      "authorship_tag": "ABX9TyPDpnCpAFxdOCf0T6ijE681",
      "include_colab_link": true
    },
    "kernelspec": {
      "name": "python3",
      "display_name": "Python 3"
    },
    "language_info": {
      "name": "python"
    }
  },
  "cells": [
    {
      "cell_type": "markdown",
      "metadata": {
        "id": "view-in-github",
        "colab_type": "text"
      },
      "source": [
        "<a href=\"https://colab.research.google.com/github/DannyJsBulls/Login-Bootstrap/blob/main/Analisis_de_datos_ficha_2524603.ipynb\" target=\"_parent\"><img src=\"https://colab.research.google.com/assets/colab-badge.svg\" alt=\"Open In Colab\"/></a>"
      ]
    },
    {
      "cell_type": "markdown",
      "source": [
        "import matplotlib.pyplot as plt\n",
        "# capturar por teclado el numero de aprendices\n",
        "num_aprendices = int(input(\"ingrese el numero de aprendices que va a almacenar))"
      ],
      "metadata": {
        "id": "XU_EhwCk0lL5"
      }
    },
    {
      "cell_type": "markdown",
      "source": [
        "import pandas as pd\n",
        "import matplotlib.pyplot as plt\n",
        "\n",
        "# Capturar por teclado el número de aprendices\n",
        "num_aprendices = int(input(\"Ingrese el número de aprendices que va a almacenar: \"))\n",
        "\n",
        "# Inicialización de las listas de aprendices y calificaciones\n",
        "aprendices = []\n",
        "calificaciones = []\n",
        "\n",
        "for i in range(num_aprendices):\n",
        "    nombre = input(f\"Digite el nombre del aprendiz {i + 1}: \")\n",
        "    calificacion = float(input(f\"Digite la calificación de {nombre}: \"))\n",
        "    # Utilizaremos un método append para asignar el valor a las listas\n",
        "    aprendices.append(nombre)\n",
        "    calificaciones.append(calificacion)\n",
        "\n",
        "# Crear el gráfico de barras con todos los aprendices y calificaciones\n",
        "plt.bar(aprendices, calificaciones, color='skyblue')\n",
        "plt.xlabel('Aprendices')\n",
        "plt.ylabel('Calificaciones')\n",
        "plt.title('Calificaciones de Aprendices')\n",
        "\n",
        "# Mostrar el gráfico\n",
        "plt.xticks(rotation=45)  # Rotar los nombres de los aprendices en el eje x para una mejor visualización\n",
        "plt.tight_layout()  # Ajustar el diseño del gráfico\n",
        "plt.show()\n",
        "\n",
        "# Contar los aprendices con calificación mayor a 3.4\n",
        "contador = sum(1 for calificacion in calificaciones if calificacion > 3.4)\n",
        "\n",
        "# Crear un gráfico de barras con el conteo de aprendices\n",
        "plt.bar(['Calif. > 3.4', 'Calif. <= 3.4'], [contador, num_aprendices - contador], color=['green', 'red'])\n",
        "plt.xlabel('Categoría de Calificación')\n",
        "plt.ylabel('Número de Aprendices')\n",
        "plt.title('Conteo de Aprendices con Calificación Mayor a 3.4')\n",
        "\n",
        "# Mostrar el gráfico\n",
        "plt.show()\n",
        "\n",
        "print(f\"Número de aprendices con calificación mayor a 3.4: {contador}\")\n",
        "\n",
        "\n",
        "\n",
        "\n",
        "\n",
        "\n"
      ],
      "metadata": {
        "id": "IWbf_aS-mH7N"
      }
    },
    {
      "cell_type": "code",
      "source": [
        "# Importamos el API pandas\n",
        "import pandas as pd\n",
        "\n",
        "\n",
        "# Cargamos los registros en el diccionario de datos para el data frame\n",
        "aprendices = {'Nombre':[\"Miguel\", \"Brayan\", \"Mariana\", \"Nicolas\", \"Laura\"],\n",
        "              'Apellidos':[\"Martinez\", \"Bernal\", \"Guerrero\", \"Martinez\", \"Becerra\"],\n",
        "              'Sexo' :[\"M\", \"M\", \"F\", \"M\", \"F\"],\n",
        "              'Edad' :[25, 20, 19, 22, 20]\n",
        "              }\n",
        "# Definimos una variable\n",
        "df = pd.DataFrame(aprendices)\n",
        "print(df)\n",
        "\n",
        "\n",
        "# Definimos una variable edad_mayor\n",
        "edad_mayor = df['Edad'].max()\n",
        "print(\"La edad mayor es\", edad_mayor)\n",
        "\n",
        "\n",
        "# Filtrar los registros de sexo masculino\n",
        "hombres = df[df['Sexo'] == 'M']\n",
        "\n",
        "\n",
        "# Encontrar la mayor edad entre los registros de sexo masculino\n",
        "edad_maxima_hombres = hombres['Edad'].max()\n",
        "\n",
        "\n",
        "# Filtrar los registros de sexo masculino que tienen la mayor edad\n",
        "hombres_mayor_edad = hombres[hombres['Edad'] == edad_maxima_hombres]\n",
        "\n",
        "print(\"Hombres del sexo masculino con la mayor edad:\")\n",
        "print(hombres_mayor_edad)\n",
        "\n",
        "#definimos la variable mediana\n",
        "mediana = df['Edad'].mean()\n",
        "print(\"El promedio de las edades es: \", mediana)\n",
        "\n",
        "# Filtrar los registros que tienen el apellido Martinez\n",
        "apellidos_martinez = df[df['Apellidos'] == 'Martinez']\n",
        "print(\"Filtro de los registros que tienen el apellido martinez \\n\", apellidos_martinez)\n",
        "\n",
        "# Mostrar solamente los registros que son mayores a 21 años\n",
        "mayores21Años = df[df['Edad'] > 21]\n",
        "print(\"Los registros que son mayores a 21 años son: \\n\", mayores21Años)\n",
        "\n",
        "\n",
        "# Ordenar los aprendices por edad en orden descendente\n",
        "df_ordenado = df.sort_values(by='Edad', ascending=False)\n",
        "\n",
        "# Imprimir el DataFrame ordenado\n",
        "print(\"Aprendices ordenados por edad en orden descendente:\")\n",
        "print(df_ordenado)\n",
        "\n",
        "# Filtrar los 2 aprendices con mayor de 20 años\n",
        "aprendices_mayor_20 = df_ordenado[df_ordenado['Edad'] > 20].head(2)\n",
        "\n",
        "# Imprimir los 2 aprendices\n",
        "print(\"Los 2 aprendices con más de 20 años:\")\n",
        "print(aprendices_mayor_20)\n",
        "\n",
        "\n",
        "\n"
      ],
      "metadata": {
        "colab": {
          "base_uri": "https://localhost:8080/"
        },
        "id": "YwKRr6Ihx4yp",
        "outputId": "bcd2e6cc-ab29-4157-c731-eca01853c942"
      },
      "execution_count": null,
      "outputs": [
        {
          "output_type": "stream",
          "name": "stdout",
          "text": [
            "    Nombre Apellidos Sexo  Edad\n",
            "0   Miguel  Martinez    M    25\n",
            "1   Brayan    Bernal    M    20\n",
            "2  Mariana  Guerrero    F    19\n",
            "3  Nicolas  Martinez    M    22\n",
            "4    Laura   Becerra    F    20\n",
            "La edad mayor es 25\n",
            "Hombres del sexo masculino con la mayor edad:\n",
            "   Nombre Apellidos Sexo  Edad\n",
            "0  Miguel  Martinez    M    25\n",
            "El promedio de las edades es:  21.2\n",
            "Filtro de los registros que tienen el apellido martinez \n",
            "     Nombre Apellidos Sexo  Edad\n",
            "0   Miguel  Martinez    M    25\n",
            "3  Nicolas  Martinez    M    22\n",
            "Los registros que son mayores a 21 años son: \n",
            "     Nombre Apellidos Sexo  Edad\n",
            "0   Miguel  Martinez    M    25\n",
            "3  Nicolas  Martinez    M    22\n",
            "Aprendices ordenados por edad en orden descendente:\n",
            "    Nombre Apellidos Sexo  Edad\n",
            "0   Miguel  Martinez    M    25\n",
            "3  Nicolas  Martinez    M    22\n",
            "1   Brayan    Bernal    M    20\n",
            "4    Laura   Becerra    F    20\n",
            "2  Mariana  Guerrero    F    19\n",
            "Los 2 aprendices con más de 20 años:\n",
            "    Nombre Apellidos Sexo  Edad\n",
            "0   Miguel  Martinez    M    25\n",
            "3  Nicolas  Martinez    M    22\n"
          ]
        }
      ]
    }
  ]
}